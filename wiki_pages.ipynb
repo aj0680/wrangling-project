{
  "nbformat": 4,
  "nbformat_minor": 0,
  "metadata": {
    "colab": {
      "provenance": []
    },
    "kernelspec": {
      "name": "ir",
      "display_name": "R"
    },
    "language_info": {
      "name": "R"
    }
  },
  "cells": [
    {
      "cell_type": "markdown",
      "source": [
        "This notebook scrapes tables in wikipedia articles, performs some cleaning and saves the data as a csv file."
      ],
      "metadata": {
        "id": "z685s1Qo79LU"
      }
    },
    {
      "cell_type": "code",
      "execution_count": null,
      "metadata": {
        "colab": {
          "base_uri": "https://localhost:8080/",
          "height": 412
        },
        "id": "lvQ68QilFSeF",
        "outputId": "5a0ca83c-c0dc-4030-de30-ef5cb48a178c"
      },
      "outputs": [
        {
          "output_type": "display_data",
          "data": {
            "text/html": [
              "<table class=\"dataframe\">\n",
              "<caption>A tibble: 10 × 3</caption>\n",
              "<thead>\n",
              "\t<tr><th scope=col>Location</th><th scope=col>Vaccinated</th><th scope=col>Percent</th></tr>\n",
              "\t<tr><th scope=col>&lt;chr&gt;</th><th scope=col>&lt;chr&gt;</th><th scope=col>&lt;chr&gt;</th></tr>\n",
              "</thead>\n",
              "<tbody>\n",
              "\t<tr><td>World         </td><td>5,625,493,786</td><td>70.54</td></tr>\n",
              "\t<tr><td>China         </td><td>1,310,292,000</td><td>91.89</td></tr>\n",
              "\t<tr><td>India         </td><td>1,027,418,330</td><td>72.50</td></tr>\n",
              "\t<tr><td>European Union</td><td>338,046,600  </td><td>75.10</td></tr>\n",
              "\t<tr><td>United States </td><td>270,227,181  </td><td>81.39</td></tr>\n",
              "\t<tr><td>Indonesia     </td><td>203,845,350  </td><td>73.99</td></tr>\n",
              "\t<tr><td>Brazil        </td><td>189,643,431  </td><td>88.08</td></tr>\n",
              "\t<tr><td>Pakistan      </td><td>165,567,890  </td><td>70.21</td></tr>\n",
              "\t<tr><td>Bangladesh    </td><td>151,504,341  </td><td>88.50</td></tr>\n",
              "\t<tr><td>Japan         </td><td>104,705,133  </td><td>84.47</td></tr>\n",
              "</tbody>\n",
              "</table>\n"
            ],
            "text/markdown": "\nA tibble: 10 × 3\n\n| Location &lt;chr&gt; | Vaccinated &lt;chr&gt; | Percent &lt;chr&gt; |\n|---|---|---|\n| World          | 5,625,493,786 | 70.54 |\n| China          | 1,310,292,000 | 91.89 |\n| India          | 1,027,418,330 | 72.50 |\n| European Union | 338,046,600   | 75.10 |\n| United States  | 270,227,181   | 81.39 |\n| Indonesia      | 203,845,350   | 73.99 |\n| Brazil         | 189,643,431   | 88.08 |\n| Pakistan       | 165,567,890   | 70.21 |\n| Bangladesh     | 151,504,341   | 88.50 |\n| Japan          | 104,705,133   | 84.47 |\n\n",
            "text/latex": "A tibble: 10 × 3\n\\begin{tabular}{lll}\n Location & Vaccinated & Percent\\\\\n <chr> & <chr> & <chr>\\\\\n\\hline\n\t World          & 5,625,493,786 & 70.54\\\\\n\t China          & 1,310,292,000 & 91.89\\\\\n\t India          & 1,027,418,330 & 72.50\\\\\n\t European Union & 338,046,600   & 75.10\\\\\n\t United States  & 270,227,181   & 81.39\\\\\n\t Indonesia      & 203,845,350   & 73.99\\\\\n\t Brazil         & 189,643,431   & 88.08\\\\\n\t Pakistan       & 165,567,890   & 70.21\\\\\n\t Bangladesh     & 151,504,341   & 88.50\\\\\n\t Japan          & 104,705,133   & 84.47\\\\\n\\end{tabular}\n",
            "text/plain": [
              "   Location       Vaccinated    Percent\n",
              "1  World          5,625,493,786 70.54  \n",
              "2  China          1,310,292,000 91.89  \n",
              "3  India          1,027,418,330 72.50  \n",
              "4  European Union 338,046,600   75.10  \n",
              "5  United States  270,227,181   81.39  \n",
              "6  Indonesia      203,845,350   73.99  \n",
              "7  Brazil         189,643,431   88.08  \n",
              "8  Pakistan       165,567,890   70.21  \n",
              "9  Bangladesh     151,504,341   88.50  \n",
              "10 Japan          104,705,133   84.47  "
            ]
          },
          "metadata": {}
        }
      ],
      "source": [
        "library(tidyverse)\n",
        "library(rvest)\n",
        "\n",
        "# URL of the Wikipedia page\n",
        "url <- \"https://en.wikipedia.org/wiki/Deployment_of_COVID-19_vaccines#covid-19-vaccine-distribution-by-country\"\n",
        "\n",
        "# Read the HTML content of the page\n",
        "page <- read_html(url)\n",
        "\n",
        "\n",
        "vaccine_deployment_df <- page %>%\n",
        "  html_node(\".wikitable\") %>%\n",
        "  html_table()\n",
        "\n",
        "# Remove the column with empty name\n",
        "vaccine_deployment_df <- vaccine_deployment_df %>%\n",
        "  select(-one_of(\"\"))\n",
        "\n",
        "# Removing all characters after '[' in column names\n",
        "cleaned_colnames <- gsub(\"\\\\[.*\", \"\", colnames(vaccine_deployment_df))\n",
        "colnames(vaccine_deployment_df) <- cleaned_colnames\n",
        "\n",
        "# Remove the last record\n",
        "vaccine_deployment_df <- vaccine_deployment_df[-nrow(vaccine_deployment_df), ]\n",
        "\n",
        "# Remove percent character and footnotes\n",
        "vaccine_deployment_df <- vaccine_deployment_df %>%\n",
        "  mutate(Percent = str_replace_all(Percent, \"%\", \"\")) %>%\n",
        "  mutate(Location = gsub(\"\\\\[.*\", \"\", Location))\n",
        "\n",
        "\n",
        "head(vaccine_deployment_df, 10)\n",
        "\n",
        "write_csv(vaccine_deployment_df, \"vaccine_deployment.csv\")"
      ]
    },
    {
      "cell_type": "code",
      "source": [
        "# URL of the Wikipedia page\n",
        "url <- \"https://en.wikipedia.org/wiki/COVID-19_pandemic_death_rates_by_country#covid-19-pandemic-cases-and-mortality-by-country\"\n",
        "\n",
        "# Read the HTML content of the page\n",
        "page <- read_html(url)\n",
        "\n",
        "# Extract the table with class \"wikitable\"\n",
        "covid_deathrate_df <- page %>%\n",
        "  html_node(\".wikitable\") %>%\n",
        "  html_table()\n",
        "\n",
        "# Remove the last record\n",
        "covid_deathrate_df <- covid_deathrate_df[-nrow(covid_deathrate_df), ]\n",
        "\n",
        "# Remove footnotes\n",
        "covid_deathrate_df <- covid_deathrate_df %>%\n",
        "  mutate(Country = gsub(\"\\\\[.*\", \"\", Country)) %>%\n",
        "  mutate(across(everything(), ~na_if(., \"—\")))\n",
        "\n",
        "head(covid_deathrate_df, 10)\n",
        "\n",
        "write_csv(covid_deathrate_df, \"covid_deathrate.csv\")"
      ],
      "metadata": {
        "colab": {
          "base_uri": "https://localhost:8080/",
          "height": 412
        },
        "id": "RjzPQLR7HjUr",
        "outputId": "c2789b54-fc9a-4d3a-e7d1-18776048223d"
      },
      "execution_count": null,
      "outputs": [
        {
          "output_type": "display_data",
          "data": {
            "text/html": [
              "<table class=\"dataframe\">\n",
              "<caption>A tibble: 10 × 4</caption>\n",
              "<thead>\n",
              "\t<tr><th scope=col>Country</th><th scope=col>Deaths / million</th><th scope=col>Deaths</th><th scope=col>Cases</th></tr>\n",
              "\t<tr><th scope=col>&lt;chr&gt;</th><th scope=col>&lt;chr&gt;</th><th scope=col>&lt;chr&gt;</th><th scope=col>&lt;chr&gt;</th></tr>\n",
              "</thead>\n",
              "<tbody>\n",
              "\t<tr><td>World                 </td><td>872  </td><td>6,960,770</td><td>771,150,460</td></tr>\n",
              "\t<tr><td>Peru                  </td><td>6,511</td><td>221,704  </td><td>4,520,727  </td></tr>\n",
              "\t<tr><td>Bulgaria              </td><td>5,664</td><td>38,414   </td><td>1,302,188  </td></tr>\n",
              "\t<tr><td>Bosnia and Herzegovina</td><td>5,057</td><td>16,354   </td><td>403,155    </td></tr>\n",
              "\t<tr><td>Hungary               </td><td>4,896</td><td>48,807   </td><td>2,206,311  </td></tr>\n",
              "\t<tr><td>North Macedonia       </td><td>4,750</td><td>9,946    </td><td>349,104    </td></tr>\n",
              "\t<tr><td>Georgia               </td><td>4,575</td><td>17,132   </td><td>1,855,289  </td></tr>\n",
              "\t<tr><td>Croatia               </td><td>4,553</td><td>18,351   </td><td>1,275,337  </td></tr>\n",
              "\t<tr><td>Slovenia              </td><td>4,456</td><td>9,448    </td><td>1,345,384  </td></tr>\n",
              "\t<tr><td>Montenegro            </td><td>4,232</td><td>2,654    </td><td>251,280    </td></tr>\n",
              "</tbody>\n",
              "</table>\n"
            ],
            "text/markdown": "\nA tibble: 10 × 4\n\n| Country &lt;chr&gt; | Deaths / million &lt;chr&gt; | Deaths &lt;chr&gt; | Cases &lt;chr&gt; |\n|---|---|---|---|\n| World                  | 872   | 6,960,770 | 771,150,460 |\n| Peru                   | 6,511 | 221,704   | 4,520,727   |\n| Bulgaria               | 5,664 | 38,414    | 1,302,188   |\n| Bosnia and Herzegovina | 5,057 | 16,354    | 403,155     |\n| Hungary                | 4,896 | 48,807    | 2,206,311   |\n| North Macedonia        | 4,750 | 9,946     | 349,104     |\n| Georgia                | 4,575 | 17,132    | 1,855,289   |\n| Croatia                | 4,553 | 18,351    | 1,275,337   |\n| Slovenia               | 4,456 | 9,448     | 1,345,384   |\n| Montenegro             | 4,232 | 2,654     | 251,280     |\n\n",
            "text/latex": "A tibble: 10 × 4\n\\begin{tabular}{llll}\n Country & Deaths / million & Deaths & Cases\\\\\n <chr> & <chr> & <chr> & <chr>\\\\\n\\hline\n\t World                  & 872   & 6,960,770 & 771,150,460\\\\\n\t Peru                   & 6,511 & 221,704   & 4,520,727  \\\\\n\t Bulgaria               & 5,664 & 38,414    & 1,302,188  \\\\\n\t Bosnia and Herzegovina & 5,057 & 16,354    & 403,155    \\\\\n\t Hungary                & 4,896 & 48,807    & 2,206,311  \\\\\n\t North Macedonia        & 4,750 & 9,946     & 349,104    \\\\\n\t Georgia                & 4,575 & 17,132    & 1,855,289  \\\\\n\t Croatia                & 4,553 & 18,351    & 1,275,337  \\\\\n\t Slovenia               & 4,456 & 9,448     & 1,345,384  \\\\\n\t Montenegro             & 4,232 & 2,654     & 251,280    \\\\\n\\end{tabular}\n",
            "text/plain": [
              "   Country                Deaths / million Deaths    Cases      \n",
              "1  World                  872              6,960,770 771,150,460\n",
              "2  Peru                   6,511            221,704   4,520,727  \n",
              "3  Bulgaria               5,664            38,414    1,302,188  \n",
              "4  Bosnia and Herzegovina 5,057            16,354    403,155    \n",
              "5  Hungary                4,896            48,807    2,206,311  \n",
              "6  North Macedonia        4,750            9,946     349,104    \n",
              "7  Georgia                4,575            17,132    1,855,289  \n",
              "8  Croatia                4,553            18,351    1,275,337  \n",
              "9  Slovenia               4,456            9,448     1,345,384  \n",
              "10 Montenegro             4,232            2,654     251,280    "
            ]
          },
          "metadata": {}
        }
      ]
    },
    {
      "cell_type": "code",
      "source": [
        "# URL of the Wikipedia page\n",
        "url <- \"https://en.wikipedia.org/wiki/List_of_countries_by_obesity_rate\"\n",
        "\n",
        "# Read the HTML content of the page\n",
        "page <- read_html(url)\n",
        "\n",
        "# Extract the table with class \"wikitable\"\n",
        "obsesity_rate_df <- page %>%\n",
        "  html_node(\".wikitable\") %>%\n",
        "  html_table()\n",
        "\n",
        "head(obsesity_rate_df, 5)\n",
        "\n",
        "write_csv(obsesity_rate_df, \"obsesity_rate.csv\")"
      ],
      "metadata": {
        "colab": {
          "base_uri": "https://localhost:8080/",
          "height": 255
        },
        "id": "o-HRF3EBH66k",
        "outputId": "d120795e-51e5-4816-e792-16adcb2d9688"
      },
      "execution_count": null,
      "outputs": [
        {
          "output_type": "display_data",
          "data": {
            "text/html": [
              "<table class=\"dataframe\">\n",
              "<caption>A tibble: 5 × 2</caption>\n",
              "<thead>\n",
              "\t<tr><th scope=col>Country</th><th scope=col>Obesity rate (%)</th></tr>\n",
              "\t<tr><th scope=col>&lt;chr&gt;</th><th scope=col>&lt;dbl&gt;</th></tr>\n",
              "</thead>\n",
              "<tbody>\n",
              "\t<tr><td>Cook Islands    </td><td>55.9</td></tr>\n",
              "\t<tr><td>Palau           </td><td>55.3</td></tr>\n",
              "\t<tr><td>Marshall Islands</td><td>52.9</td></tr>\n",
              "\t<tr><td>Tuvalu          </td><td>51.6</td></tr>\n",
              "\t<tr><td>Tonga           </td><td>48.2</td></tr>\n",
              "</tbody>\n",
              "</table>\n"
            ],
            "text/markdown": "\nA tibble: 5 × 2\n\n| Country &lt;chr&gt; | Obesity rate (%) &lt;dbl&gt; |\n|---|---|\n| Cook Islands     | 55.9 |\n| Palau            | 55.3 |\n| Marshall Islands | 52.9 |\n| Tuvalu           | 51.6 |\n| Tonga            | 48.2 |\n\n",
            "text/latex": "A tibble: 5 × 2\n\\begin{tabular}{ll}\n Country & Obesity rate (\\%)\\\\\n <chr> & <dbl>\\\\\n\\hline\n\t Cook Islands     & 55.9\\\\\n\t Palau            & 55.3\\\\\n\t Marshall Islands & 52.9\\\\\n\t Tuvalu           & 51.6\\\\\n\t Tonga            & 48.2\\\\\n\\end{tabular}\n",
            "text/plain": [
              "  Country          Obesity rate (%)\n",
              "1 Cook Islands     55.9            \n",
              "2 Palau            55.3            \n",
              "3 Marshall Islands 52.9            \n",
              "4 Tuvalu           51.6            \n",
              "5 Tonga            48.2            "
            ]
          },
          "metadata": {}
        }
      ]
    },
    {
      "cell_type": "code",
      "source": [
        "# URL of the Wikipedia page\n",
        "url <- \"https://en.wikipedia.org/wiki/List_of_countries_by_hospital_beds\"\n",
        "\n",
        "# Read the HTML content of the page\n",
        "page <- read_html(url)\n",
        "\n",
        "# Extract the table with class \"wikitable\"\n",
        "beds_df <- page %>%\n",
        "  html_node(\".wikitable\") %>%\n",
        "  html_table()\n",
        "\n",
        "# Remove the first record\n",
        "beds_df <- beds_df[-1, ]\n",
        "\n",
        "# Changing column names\n",
        "column_names = c('Country (or territory)', 'Region', 'Hospital beds per 1,000 people 2013',\n",
        "                  'Hospital beds per 1,000 people 2014','Hospital beds per 1,000 people 2015',\n",
        "                  'Hospital beds per 1,000 people 2016','Hospital beds per 1,000 people 2017',\n",
        "                   'Occupancy (%)', 'ICU-CCB beds/100,000 inhabitants','Ventilators')\n",
        "\n",
        "colnames(beds_df) <- column_names\n",
        "\n",
        "\n",
        "beds_df <- beds_df %>%\n",
        "  mutate(across(everything(),\n",
        "                ~ gsub(\"\\\\[.*?\\\\]\", \"\", .))) %>%\n",
        "  mutate(across(everything(), ~na_if(., \"—\")))\n",
        "\n",
        "\n",
        "\n",
        "head(beds_df, 5)\n",
        "\n",
        "write_csv(beds_df, \"hospital_beds.csv\")"
      ],
      "metadata": {
        "colab": {
          "base_uri": "https://localhost:8080/",
          "height": 307
        },
        "id": "R30P7QvWI2_n",
        "outputId": "2cffd42d-92fd-4cda-f8a9-d9d5bc61f73f"
      },
      "execution_count": null,
      "outputs": [
        {
          "output_type": "display_data",
          "data": {
            "text/html": [
              "<table class=\"dataframe\">\n",
              "<caption>A tibble: 5 × 10</caption>\n",
              "<thead>\n",
              "\t<tr><th scope=col>Country (or territory)</th><th scope=col>Region</th><th scope=col>Hospital beds per 1,000 people 2013</th><th scope=col>Hospital beds per 1,000 people 2014</th><th scope=col>Hospital beds per 1,000 people 2015</th><th scope=col>Hospital beds per 1,000 people 2016</th><th scope=col>Hospital beds per 1,000 people 2017</th><th scope=col>Occupancy (%)</th><th scope=col>ICU-CCB beds/100,000 inhabitants</th><th scope=col>Ventilators</th></tr>\n",
              "\t<tr><th scope=col>&lt;chr&gt;</th><th scope=col>&lt;chr&gt;</th><th scope=col>&lt;chr&gt;</th><th scope=col>&lt;chr&gt;</th><th scope=col>&lt;chr&gt;</th><th scope=col>&lt;chr&gt;</th><th scope=col>&lt;chr&gt;</th><th scope=col>&lt;chr&gt;</th><th scope=col>&lt;chr&gt;</th><th scope=col>&lt;chr&gt;</th></tr>\n",
              "</thead>\n",
              "<tbody>\n",
              "\t<tr><td>Japan      </td><td>Asia  </td><td>13.30</td><td>13.21</td><td>13.17</td><td>13.11</td><td>13.05</td><td>75.50 </td><td> 13.50</td><td> 45,293                               </td></tr>\n",
              "\t<tr><td>South Korea</td><td>Asia  </td><td>10.92</td><td>11.59</td><td>11.61</td><td>11.98</td><td>12.27</td><td>NA    </td><td> 10.60</td><td> 9,795                                </td></tr>\n",
              "\t<tr><td>Ukraine    </td><td>Europe</td><td>NA   </td><td>NA   </td><td>NA   </td><td>NA   </td><td>8.8  </td><td>NA    </td><td>NA    </td><td> 3,600                                </td></tr>\n",
              "\t<tr><td>Russia     </td><td>Europe</td><td>9.07 </td><td>8.81 </td><td>8.35 </td><td>8.16 </td><td>8.05 </td><td>NA    </td><td> 8.30 </td><td> 40,000 (27.3 per 100,000 inhabitants)</td></tr>\n",
              "\t<tr><td>Germany    </td><td>Europe</td><td>8.28 </td><td>8.23 </td><td>8.13 </td><td>8.06 </td><td>8    </td><td> 62.10</td><td> 38.70</td><td> 25,000                               </td></tr>\n",
              "</tbody>\n",
              "</table>\n"
            ],
            "text/markdown": "\nA tibble: 5 × 10\n\n| Country (or territory) &lt;chr&gt; | Region &lt;chr&gt; | Hospital beds per 1,000 people 2013 &lt;chr&gt; | Hospital beds per 1,000 people 2014 &lt;chr&gt; | Hospital beds per 1,000 people 2015 &lt;chr&gt; | Hospital beds per 1,000 people 2016 &lt;chr&gt; | Hospital beds per 1,000 people 2017 &lt;chr&gt; | Occupancy (%) &lt;chr&gt; | ICU-CCB beds/100,000 inhabitants &lt;chr&gt; | Ventilators &lt;chr&gt; |\n|---|---|---|---|---|---|---|---|---|---|\n| Japan       | Asia   | 13.30 | 13.21 | 13.17 | 13.11 | 13.05 | 75.50  |  13.50 |  45,293                                |\n| South Korea | Asia   | 10.92 | 11.59 | 11.61 | 11.98 | 12.27 | NA     |  10.60 |  9,795                                 |\n| Ukraine     | Europe | NA    | NA    | NA    | NA    | 8.8   | NA     | NA     |  3,600                                 |\n| Russia      | Europe | 9.07  | 8.81  | 8.35  | 8.16  | 8.05  | NA     |  8.30  |  40,000 (27.3 per 100,000 inhabitants) |\n| Germany     | Europe | 8.28  | 8.23  | 8.13  | 8.06  | 8     |  62.10 |  38.70 |  25,000                                |\n\n",
            "text/latex": "A tibble: 5 × 10\n\\begin{tabular}{llllllllll}\n Country (or territory) & Region & Hospital beds per 1,000 people 2013 & Hospital beds per 1,000 people 2014 & Hospital beds per 1,000 people 2015 & Hospital beds per 1,000 people 2016 & Hospital beds per 1,000 people 2017 & Occupancy (\\%) & ICU-CCB beds/100,000 inhabitants & Ventilators\\\\\n <chr> & <chr> & <chr> & <chr> & <chr> & <chr> & <chr> & <chr> & <chr> & <chr>\\\\\n\\hline\n\t Japan       & Asia   & 13.30 & 13.21 & 13.17 & 13.11 & 13.05 & 75.50  &  13.50 &  45,293                               \\\\\n\t South Korea & Asia   & 10.92 & 11.59 & 11.61 & 11.98 & 12.27 & NA     &  10.60 &  9,795                                \\\\\n\t Ukraine     & Europe & NA    & NA    & NA    & NA    & 8.8   & NA     & NA     &  3,600                                \\\\\n\t Russia      & Europe & 9.07  & 8.81  & 8.35  & 8.16  & 8.05  & NA     &  8.30  &  40,000 (27.3 per 100,000 inhabitants)\\\\\n\t Germany     & Europe & 8.28  & 8.23  & 8.13  & 8.06  & 8     &  62.10 &  38.70 &  25,000                               \\\\\n\\end{tabular}\n",
            "text/plain": [
              "  Country (or territory) Region Hospital beds per 1,000 people 2013\n",
              "1 Japan                  Asia   13.30                              \n",
              "2 South Korea            Asia   10.92                              \n",
              "3 Ukraine                Europe NA                                 \n",
              "4 Russia                 Europe 9.07                               \n",
              "5 Germany                Europe 8.28                               \n",
              "  Hospital beds per 1,000 people 2014 Hospital beds per 1,000 people 2015\n",
              "1 13.21                               13.17                              \n",
              "2 11.59                               11.61                              \n",
              "3 NA                                  NA                                 \n",
              "4 8.81                                8.35                               \n",
              "5 8.23                                8.13                               \n",
              "  Hospital beds per 1,000 people 2016 Hospital beds per 1,000 people 2017\n",
              "1 13.11                               13.05                              \n",
              "2 11.98                               12.27                              \n",
              "3 NA                                  8.8                                \n",
              "4 8.16                                8.05                               \n",
              "5 8.06                                8                                  \n",
              "  Occupancy (%) ICU-CCB beds/100,000 inhabitants\n",
              "1 75.50          13.50                          \n",
              "2 NA             10.60                          \n",
              "3 NA            NA                              \n",
              "4 NA             8.30                           \n",
              "5  62.10         38.70                          \n",
              "  Ventilators                           \n",
              "1  45,293                               \n",
              "2  9,795                                \n",
              "3  3,600                                \n",
              "4  40,000 (27.3 per 100,000 inhabitants)\n",
              "5  25,000                               "
            ]
          },
          "metadata": {}
        }
      ]
    }
  ]
}